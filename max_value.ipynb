{
 "cells": [
  {
   "cell_type": "code",
   "execution_count": 1,
   "id": "b694ecf1",
   "metadata": {},
   "outputs": [],
   "source": [
    "#source: https://www.practicepython.org/exercise/2016/03/27/28-max-of-three.html\n",
    "\n",
    "#Implement a function that takes as input three variables, and returns the largest of the three. \n",
    "#Do this without using the Python max() function! The goal of this exercise is to think about some \n",
    "#internals that Python normally takes care of for us. All you need is some variables and if statements!"
   ]
  },
  {
   "cell_type": "code",
   "execution_count": 13,
   "id": "fafecff4",
   "metadata": {},
   "outputs": [],
   "source": [
    "x =[ 2,12,4,8,3]\n",
    "\n",
    "max_val = x[0]\n",
    "\n",
    "for i in range(1,len(x)):\n",
    "    if x[i] > max_val:\n",
    "        max_val = x[i]"
   ]
  },
  {
   "cell_type": "code",
   "execution_count": 14,
   "id": "143fa4f6",
   "metadata": {},
   "outputs": [
    {
     "data": {
      "text/plain": [
       "12"
      ]
     },
     "execution_count": 14,
     "metadata": {},
     "output_type": "execute_result"
    }
   ],
   "source": [
    "max_val"
   ]
  },
  {
   "cell_type": "code",
   "execution_count": null,
   "id": "1360c936",
   "metadata": {},
   "outputs": [],
   "source": []
  }
 ],
 "metadata": {
  "kernelspec": {
   "display_name": "Python 3",
   "language": "python",
   "name": "python3"
  },
  "language_info": {
   "codemirror_mode": {
    "name": "ipython",
    "version": 3
   },
   "file_extension": ".py",
   "mimetype": "text/x-python",
   "name": "python",
   "nbconvert_exporter": "python",
   "pygments_lexer": "ipython3",
   "version": "3.8.8"
  }
 },
 "nbformat": 4,
 "nbformat_minor": 5
}
