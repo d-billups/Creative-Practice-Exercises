{
 "cells": [
  {
   "cell_type": "code",
   "execution_count": 1,
   "id": "967292e9",
   "metadata": {},
   "outputs": [],
   "source": [
    "#source: https://www.practicepython.org/exercise/2016/03/27/28-max-of-three.html\n",
    "\n",
    "#Implement a function that takes as input three variables, and returns the largest of the three. \n",
    "#Do this without using the Python max() function! The goal of this exercise is to think about some \n",
    "#internals that Python normally takes care of for us. All you need is some variables and if statements!"
   ]
  },
  {
   "cell_type": "code",
   "execution_count": 33,
   "id": "d07bdc9f",
   "metadata": {},
   "outputs": [],
   "source": [
    "def max_3():\n",
    "    ip = int(input('Please provide a number 1: '))\n",
    "    ip2 = int(input('Please provide a number 2: '))\n",
    "    ip3 = int(input('Please provide a number 3: '))\n",
    "    lis_of_num = [ip, ip2, ip3]\n",
    "    max_val = 0\n",
    "\n",
    "    for i in range(len(lis_of_num)):\n",
    "        if lis_of_num[i] > max_val:\n",
    "            max_val = lis_of_num[i]\n",
    "    \n",
    "    return max_val"
   ]
  },
  {
   "cell_type": "code",
   "execution_count": 34,
   "id": "1e91aa4f",
   "metadata": {},
   "outputs": [
    {
     "name": "stdout",
     "output_type": "stream",
     "text": [
      "Please provide a number 1: 15\n",
      "Please provide a number 2: 13\n",
      "Please provide a number 3: 8\n"
     ]
    },
    {
     "data": {
      "text/plain": [
       "15"
      ]
     },
     "execution_count": 34,
     "metadata": {},
     "output_type": "execute_result"
    }
   ],
   "source": [
    "max_3()"
   ]
  },
  {
   "cell_type": "code",
   "execution_count": 35,
   "id": "a7dc5da4",
   "metadata": {},
   "outputs": [
    {
     "name": "stdout",
     "output_type": "stream",
     "text": [
      "Please provide a number 1: 1\n",
      "Please provide a number 2: 7\n",
      "Please provide a number 3: 5\n"
     ]
    },
    {
     "data": {
      "text/plain": [
       "7"
      ]
     },
     "execution_count": 35,
     "metadata": {},
     "output_type": "execute_result"
    }
   ],
   "source": [
    "max_3()"
   ]
  },
  {
   "cell_type": "code",
   "execution_count": null,
   "id": "874650f1",
   "metadata": {},
   "outputs": [],
   "source": []
  }
 ],
 "metadata": {
  "kernelspec": {
   "display_name": "Python 3",
   "language": "python",
   "name": "python3"
  },
  "language_info": {
   "codemirror_mode": {
    "name": "ipython",
    "version": 3
   },
   "file_extension": ".py",
   "mimetype": "text/x-python",
   "name": "python",
   "nbconvert_exporter": "python",
   "pygments_lexer": "ipython3",
   "version": "3.8.8"
  }
 },
 "nbformat": 4,
 "nbformat_minor": 5
}
