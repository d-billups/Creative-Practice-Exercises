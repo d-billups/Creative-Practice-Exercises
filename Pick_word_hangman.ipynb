{
 "cells": [
  {
   "cell_type": "code",
   "execution_count": 1,
   "id": "204ff76f",
   "metadata": {},
   "outputs": [],
   "source": [
    "#source: https://www.practicepython.org/exercise/2016/09/24/30-pick-word.html\n",
    "\n",
    "#This exercise is Part 1 of 3 of the Hangman exercise series. The other exercises are: Part 2 and Part 3.\n",
    "#In this exercise, the task is to write a function that picks a random word from a list of words from the \n",
    "#SOWPODS dictionary. Download this file and save it in the same directory as your Python code. \n",
    "#This file is Peter Norvig’s compilation of the dictionary of words used in professional Scrabble tournaments. \n",
    "#Each line in the file contains a single word"
   ]
  },
  {
   "cell_type": "code",
   "execution_count": 37,
   "id": "a9a3f9cd",
   "metadata": {},
   "outputs": [],
   "source": [
    "import random"
   ]
  },
  {
   "cell_type": "code",
   "execution_count": 64,
   "id": "8f3a5a13",
   "metadata": {},
   "outputs": [],
   "source": [
    "words = open('sowpods.txt','r')\n",
    "word_ = words.read()\n",
    "word_list = word_.split('\\n')\n",
    "\n",
    "ran_word = random.choice(word_list)"
   ]
  },
  {
   "cell_type": "code",
   "execution_count": 65,
   "id": "beb34069",
   "metadata": {},
   "outputs": [
    {
     "data": {
      "text/plain": [
       "'ESCAPE'"
      ]
     },
     "execution_count": 65,
     "metadata": {},
     "output_type": "execute_result"
    }
   ],
   "source": [
    "ran_word"
   ]
  }
 ],
 "metadata": {
  "kernelspec": {
   "display_name": "Python 3",
   "language": "python",
   "name": "python3"
  },
  "language_info": {
   "codemirror_mode": {
    "name": "ipython",
    "version": 3
   },
   "file_extension": ".py",
   "mimetype": "text/x-python",
   "name": "python",
   "nbconvert_exporter": "python",
   "pygments_lexer": "ipython3",
   "version": "3.8.8"
  }
 },
 "nbformat": 4,
 "nbformat_minor": 5
}
