{
 "cells": [
  {
   "cell_type": "code",
   "execution_count": 15,
   "id": "bea154e7",
   "metadata": {},
   "outputs": [
    {
     "name": "stdout",
     "output_type": "stream",
     "text": [
      "/Users/diorbillups\n"
     ]
    }
   ],
   "source": [
    "#how to see what directory I'm in\n",
    "import os\n",
    "\n",
    "notebook_path = os.getcwd()\n",
    "print(notebook_path)"
   ]
  },
  {
   "cell_type": "code",
   "execution_count": 65,
   "id": "173355a2",
   "metadata": {},
   "outputs": [],
   "source": [
    "#Initialize empty dictionary and list\n",
    "\n",
    "nc = {} #for counting character names\n",
    "e= []   #to tokenize text from .txt file\n",
    "\n",
    "all_ = open('names.txt','r')\n",
    "text = all_.read()\n",
    "\n",
    "token =text.split()\n",
    "\n",
    "#get a list of the unique names\n",
    "for name in token:\n",
    "    if name not in e:\n",
    "        e.append(name)\n",
    "\n",
    "#make the names the dictionary keys and initialize values to zero\n",
    "for i in e:       \n",
    "    nc[i]=0\n",
    "\n",
    "#count each occurence of the names\n",
    "for i in token:\n",
    "    if i == 'Darth':\n",
    "        nc['Darth']+=1\n",
    "    elif i == 'Lea':\n",
    "        nc['Lea']+=1\n",
    "    else:\n",
    "        nc['Luke']+=1\n",
    "\n",
    "all_.close()"
   ]
  },
  {
   "cell_type": "code",
   "execution_count": 66,
   "id": "d6293056",
   "metadata": {},
   "outputs": [
    {
     "data": {
      "text/plain": [
       "{'Darth': 31, 'Luke': 15, 'Lea': 54}"
      ]
     },
     "execution_count": 66,
     "metadata": {},
     "output_type": "execute_result"
    }
   ],
   "source": [
    "nc"
   ]
  },
  {
   "cell_type": "code",
   "execution_count": null,
   "id": "85682129",
   "metadata": {},
   "outputs": [],
   "source": []
  }
 ],
 "metadata": {
  "kernelspec": {
   "display_name": "Python 3",
   "language": "python",
   "name": "python3"
  },
  "language_info": {
   "codemirror_mode": {
    "name": "ipython",
    "version": 3
   },
   "file_extension": ".py",
   "mimetype": "text/x-python",
   "name": "python",
   "nbconvert_exporter": "python",
   "pygments_lexer": "ipython3",
   "version": "3.8.8"
  }
 },
 "nbformat": 4,
 "nbformat_minor": 5
}
