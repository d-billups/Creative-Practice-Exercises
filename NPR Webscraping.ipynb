{
 "cells": [
  {
   "cell_type": "code",
   "execution_count": 1,
   "id": "6a27a898",
   "metadata": {},
   "outputs": [],
   "source": [
    "#This is a combination of exercise 17 and exercise 21:\n",
    "#https://www.practicepython.org/exercise/2014/06/06/17-decode-a-web-page.html\n",
    "#https://www.practicepython.org/exercise/2014/11/30/21-write-to-a-file.html\n",
    "\n",
    "import requests\n",
    "from bs4 import BeautifulSoup\n",
    "import pandas as pd"
   ]
  },
  {
   "cell_type": "code",
   "execution_count": 2,
   "id": "bbac9e68",
   "metadata": {},
   "outputs": [],
   "source": [
    "url = 'https://www.npr.org/'"
   ]
  },
  {
   "cell_type": "code",
   "execution_count": 3,
   "id": "49791034",
   "metadata": {},
   "outputs": [],
   "source": [
    "request = requests.get(url)\n",
    "rt = request.text"
   ]
  },
  {
   "cell_type": "code",
   "execution_count": null,
   "id": "8eacc306",
   "metadata": {},
   "outputs": [],
   "source": [
    "soup = BeautifulSoup(rt, 'html.parser')\n",
    "print(soup.prettify)"
   ]
  },
  {
   "cell_type": "code",
   "execution_count": 5,
   "id": "6f860495",
   "metadata": {},
   "outputs": [],
   "source": [
    "m = soup.find_all('h3')\n",
    "#title sections"
   ]
  },
  {
   "cell_type": "code",
   "execution_count": 6,
   "id": "6a6917bc",
   "metadata": {},
   "outputs": [],
   "source": [
    "#Put all article titles in a container\n",
    "x = ''\n",
    "for i in m:\n",
    "    i =i.text \n",
    "    x = i + x\n",
    "    \n",
    "    "
   ]
  },
  {
   "cell_type": "code",
   "execution_count": 7,
   "id": "7eed0e9a",
   "metadata": {},
   "outputs": [],
   "source": [
    "#use regex to format the articles; spacing, newlines, etc\n",
    "import re\n",
    "\n",
    "with open('bro.txt','w') as bp: \n",
    "    patter = r\"(?<=[a-z\\?])(['*[A-Z0-9]*[A-Z0-9])\"\n",
    "    fix1 = re.sub('YouTube','YOUTUBE', x)#had to hardcode one\n",
    "    fix2 = re.sub(patter,r\" \\n\\1\", fix1)\n",
    "    \n",
    "    bp.write(fix2)\n",
    "    "
   ]
  },
  {
   "cell_type": "code",
   "execution_count": null,
   "id": "eea801fa",
   "metadata": {},
   "outputs": [],
   "source": [
    "#getting user input to create a txt file\n",
    "\n",
    "inp = input('Please provide the text file name: \\n')\n",
    "f_name = inp + '.txt'\n",
    "\n",
    "with open('f_name','w') as file: \n",
    "    patter = r\"(?<=[a-z\\?])(['*[A-Z0-9]*[A-Z0-9])\"\n",
    "    fix1 = re.sub('YouTube','YOUTUBE', x) #had to hardcode one\n",
    "    fix2 = re.sub(patter,r\" \\n\\1\", fix1)\n",
    "    \n",
    "    file.write(fix2)\n",
    "    "
   ]
  }
 ],
 "metadata": {
  "kernelspec": {
   "display_name": "Python 3",
   "language": "python",
   "name": "python3"
  },
  "language_info": {
   "codemirror_mode": {
    "name": "ipython",
    "version": 3
   },
   "file_extension": ".py",
   "mimetype": "text/x-python",
   "name": "python",
   "nbconvert_exporter": "python",
   "pygments_lexer": "ipython3",
   "version": "3.8.8"
  }
 },
 "nbformat": 4,
 "nbformat_minor": 5
}
