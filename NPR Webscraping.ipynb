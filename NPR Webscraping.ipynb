
{
 "cells": [
  {
   "cell_type": "code",
   "execution_count": 413,
   "id": "6a27a898",
   "metadata": {},
   "outputs": [],
   "source": [
    "import requests\n",
    "from bs4 import BeautifulSoup\n",
    "import pandas as pd"
   ]
  },
  {
   "cell_type": "code",
   "execution_count": 414,
   "id": "bbac9e68",
   "metadata": {},
   "outputs": [],
   "source": [
    "url = 'https://www.npr.org/'"
   ]
  },
  {
   "cell_type": "code",
   "execution_count": 415,
   "id": "49791034",
   "metadata": {},
   "outputs": [],
   "source": [
    "request = requests.get(url)\n",
    "rt = request.text"
   ]
  },
  {
   "cell_type": "code",
   "execution_count": 417,
   "id": "8eacc306",
   "metadata": {},
   "outputs": [],
   "source": [
    "soup = BeautifulSoup(rt, 'html.parser')\n",
    "print(soup.prettify)"
   ]
  },
  {
   "cell_type": "code",
   "execution_count": 653,
   "id": "6f860495",
   "metadata": {},
   "outputs": [],
   "source": [
    "m = soup.find_all('h3')\n"
   ]
  },
  {
   "cell_type": "code",
   "execution_count": 649,
   "id": "6a6917bc",
   "metadata": {},
   "outputs": [],
   "source": [
    "\n",
    "x = ''\n",
    "for i in m:\n",
    "    i =i.text \n",
    "    x = i + x\n",
    "    \n",
    "    "
   ]
  },
  {
   "cell_type": "code",
   "execution_count": 652,
   "id": "7eed0e9a",
   "metadata": {},
   "outputs": [],
   "source": [
    "import re\n",
    "\n",
    "with open('bro.txt','w') as bp: \n",
    "    patter = r\"(?<=[a-z\\?])(['*[A-Z0-9]*[A-Z0-9])\"\n",
    "    fix1 = re.sub('YouTube','YOUTUBE', x)#had to hardcode one\n",
    "    fix2 = re.sub(patter,r\" \\n\\1\", fix1)\n",
    "    \n",
    "    bp.write(fix2)\n",
    "    "
   ]
  },
  {
   "cell_type": "code",
   "execution_count": 648,
   "id": "eea801fa",
   "metadata": {},
   "outputs": [
    {
     "name": "stdout",
     "output_type": "stream",
     "text": [
      "Please provide the text file name: \n",
      "articles\n"
     ]
    }
   ],
   "source": [
    "#getting user input\n",
    "\n",
    "inp = input('Please provide the text file name: \\n')\n",
    "f_name = inp + '.txt'\n",
    "\n",
    "with open('f_name','w') as file: \n",
    "    patter = r\"(?<=[a-z\\?])(['*[A-Z0-9]*[A-Z0-9])\"\n",
    "    fix1 = re.sub('YouTube','YOUTUBE', x) #had to hardcode one\n",
    "    fix2 = re.sub(patter,r\" \\n\\1\", fix1)\n",
    "    \n",
    "    file.write(fix2)"
   ]
  },
  {
   "cell_type": "code",
   "execution_count": null,
   "id": "910160d6",
   "metadata": {},
   "outputs": [],
   "source": []
  }
 ],
 "metadata": {
  "kernelspec": {
   "display_name": "Python 3",
   "language": "python",
   "name": "python3"
  },
  "language_info": {
   "codemirror_mode": {
    "name": "ipython",
    "version": 3
   },
   "file_extension": ".py",
   "mimetype": "text/x-python",
   "name": "python",
   "nbconvert_exporter": "python",
   "pygments_lexer": "ipython3",
   "version": "3.8.8"
  }
 },
 "nbformat": 4,
 "nbformat_minor": 5
}
